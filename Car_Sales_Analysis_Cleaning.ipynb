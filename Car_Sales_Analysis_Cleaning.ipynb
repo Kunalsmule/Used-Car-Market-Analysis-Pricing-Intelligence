{
  "nbformat": 4,
  "nbformat_minor": 0,
  "metadata": {
    "colab": {
      "provenance": []
    },
    "kernelspec": {
      "name": "python3",
      "display_name": "Python 3"
    },
    "language_info": {
      "name": "python"
    }
  },
  "cells": [
    {
      "cell_type": "markdown",
      "source": [
        "# **Used Car Market Analysis & Pricing Intelligence**"
      ],
      "metadata": {
        "id": "8UI3qpU-Cn1k"
      }
    },
    {
      "cell_type": "code",
      "source": [
        "import pandas as pd\n"
      ],
      "metadata": {
        "id": "SkQ5FON0_CrJ"
      },
      "execution_count": null,
      "outputs": []
    },
    {
      "cell_type": "code",
      "source": [
        "df = pd.read_csv('/content/drive/MyDrive/Project_1/car_prices.csv')"
      ],
      "metadata": {
        "id": "m8V7jmYr1zQq"
      },
      "execution_count": null,
      "outputs": []
    },
    {
      "cell_type": "code",
      "source": [
        "df.head(n=5)"
      ],
      "metadata": {
        "id": "O4P-pa4T7Osk",
        "outputId": "b5baa9c5-c06a-46a3-e71a-a984a73fea20",
        "colab": {
          "base_uri": "https://localhost:8080/",
          "height": 660
        }
      },
      "execution_count": null,
      "outputs": [
        {
          "output_type": "execute_result",
          "data": {
            "text/plain": [
              "   year   make                model        trim   body transmission  \\\n",
              "0  2015    Kia              Sorento          LX    SUV    automatic   \n",
              "1  2015    Kia              Sorento          LX    SUV    automatic   \n",
              "2  2014    BMW             3 Series  328i SULEV  Sedan    automatic   \n",
              "3  2015  Volvo                  S60          T5  Sedan    automatic   \n",
              "4  2014    BMW  6 Series Gran Coupe        650i  Sedan    automatic   \n",
              "\n",
              "                 vin state  condition  odometer  color interior  \\\n",
              "0  5xyktca69fg566472    ca        5.0   16639.0  white    black   \n",
              "1  5xyktca69fg561319    ca        5.0    9393.0  white    beige   \n",
              "2  wba3c1c51ek116351    ca       45.0    1331.0   gray    black   \n",
              "3  yv1612tb4f1310987    ca       41.0   14282.0  white    black   \n",
              "4  wba6b2c57ed129731    ca       43.0    2641.0   gray    black   \n",
              "\n",
              "                                   seller      mmr  sellingprice  \\\n",
              "0                 kia motors america  inc  20500.0       21500.0   \n",
              "1                 kia motors america  inc  20800.0       21500.0   \n",
              "2  financial services remarketing (lease)  31900.0       30000.0   \n",
              "3                 volvo na rep/world omni  27500.0       27750.0   \n",
              "4  financial services remarketing (lease)  66000.0       67000.0   \n",
              "\n",
              "                                  saledate  \n",
              "0  Tue Dec 16 2014 12:30:00 GMT-0800 (PST)  \n",
              "1  Tue Dec 16 2014 12:30:00 GMT-0800 (PST)  \n",
              "2  Thu Jan 15 2015 04:30:00 GMT-0800 (PST)  \n",
              "3  Thu Jan 29 2015 04:30:00 GMT-0800 (PST)  \n",
              "4  Thu Dec 18 2014 12:30:00 GMT-0800 (PST)  "
            ],
            "text/html": [
              "\n",
              "  <div id=\"df-2878357f-1215-469a-9012-fcf6728220a1\" class=\"colab-df-container\">\n",
              "    <div>\n",
              "<style scoped>\n",
              "    .dataframe tbody tr th:only-of-type {\n",
              "        vertical-align: middle;\n",
              "    }\n",
              "\n",
              "    .dataframe tbody tr th {\n",
              "        vertical-align: top;\n",
              "    }\n",
              "\n",
              "    .dataframe thead th {\n",
              "        text-align: right;\n",
              "    }\n",
              "</style>\n",
              "<table border=\"1\" class=\"dataframe\">\n",
              "  <thead>\n",
              "    <tr style=\"text-align: right;\">\n",
              "      <th></th>\n",
              "      <th>year</th>\n",
              "      <th>make</th>\n",
              "      <th>model</th>\n",
              "      <th>trim</th>\n",
              "      <th>body</th>\n",
              "      <th>transmission</th>\n",
              "      <th>vin</th>\n",
              "      <th>state</th>\n",
              "      <th>condition</th>\n",
              "      <th>odometer</th>\n",
              "      <th>color</th>\n",
              "      <th>interior</th>\n",
              "      <th>seller</th>\n",
              "      <th>mmr</th>\n",
              "      <th>sellingprice</th>\n",
              "      <th>saledate</th>\n",
              "    </tr>\n",
              "  </thead>\n",
              "  <tbody>\n",
              "    <tr>\n",
              "      <th>0</th>\n",
              "      <td>2015</td>\n",
              "      <td>Kia</td>\n",
              "      <td>Sorento</td>\n",
              "      <td>LX</td>\n",
              "      <td>SUV</td>\n",
              "      <td>automatic</td>\n",
              "      <td>5xyktca69fg566472</td>\n",
              "      <td>ca</td>\n",
              "      <td>5.0</td>\n",
              "      <td>16639.0</td>\n",
              "      <td>white</td>\n",
              "      <td>black</td>\n",
              "      <td>kia motors america  inc</td>\n",
              "      <td>20500.0</td>\n",
              "      <td>21500.0</td>\n",
              "      <td>Tue Dec 16 2014 12:30:00 GMT-0800 (PST)</td>\n",
              "    </tr>\n",
              "    <tr>\n",
              "      <th>1</th>\n",
              "      <td>2015</td>\n",
              "      <td>Kia</td>\n",
              "      <td>Sorento</td>\n",
              "      <td>LX</td>\n",
              "      <td>SUV</td>\n",
              "      <td>automatic</td>\n",
              "      <td>5xyktca69fg561319</td>\n",
              "      <td>ca</td>\n",
              "      <td>5.0</td>\n",
              "      <td>9393.0</td>\n",
              "      <td>white</td>\n",
              "      <td>beige</td>\n",
              "      <td>kia motors america  inc</td>\n",
              "      <td>20800.0</td>\n",
              "      <td>21500.0</td>\n",
              "      <td>Tue Dec 16 2014 12:30:00 GMT-0800 (PST)</td>\n",
              "    </tr>\n",
              "    <tr>\n",
              "      <th>2</th>\n",
              "      <td>2014</td>\n",
              "      <td>BMW</td>\n",
              "      <td>3 Series</td>\n",
              "      <td>328i SULEV</td>\n",
              "      <td>Sedan</td>\n",
              "      <td>automatic</td>\n",
              "      <td>wba3c1c51ek116351</td>\n",
              "      <td>ca</td>\n",
              "      <td>45.0</td>\n",
              "      <td>1331.0</td>\n",
              "      <td>gray</td>\n",
              "      <td>black</td>\n",
              "      <td>financial services remarketing (lease)</td>\n",
              "      <td>31900.0</td>\n",
              "      <td>30000.0</td>\n",
              "      <td>Thu Jan 15 2015 04:30:00 GMT-0800 (PST)</td>\n",
              "    </tr>\n",
              "    <tr>\n",
              "      <th>3</th>\n",
              "      <td>2015</td>\n",
              "      <td>Volvo</td>\n",
              "      <td>S60</td>\n",
              "      <td>T5</td>\n",
              "      <td>Sedan</td>\n",
              "      <td>automatic</td>\n",
              "      <td>yv1612tb4f1310987</td>\n",
              "      <td>ca</td>\n",
              "      <td>41.0</td>\n",
              "      <td>14282.0</td>\n",
              "      <td>white</td>\n",
              "      <td>black</td>\n",
              "      <td>volvo na rep/world omni</td>\n",
              "      <td>27500.0</td>\n",
              "      <td>27750.0</td>\n",
              "      <td>Thu Jan 29 2015 04:30:00 GMT-0800 (PST)</td>\n",
              "    </tr>\n",
              "    <tr>\n",
              "      <th>4</th>\n",
              "      <td>2014</td>\n",
              "      <td>BMW</td>\n",
              "      <td>6 Series Gran Coupe</td>\n",
              "      <td>650i</td>\n",
              "      <td>Sedan</td>\n",
              "      <td>automatic</td>\n",
              "      <td>wba6b2c57ed129731</td>\n",
              "      <td>ca</td>\n",
              "      <td>43.0</td>\n",
              "      <td>2641.0</td>\n",
              "      <td>gray</td>\n",
              "      <td>black</td>\n",
              "      <td>financial services remarketing (lease)</td>\n",
              "      <td>66000.0</td>\n",
              "      <td>67000.0</td>\n",
              "      <td>Thu Dec 18 2014 12:30:00 GMT-0800 (PST)</td>\n",
              "    </tr>\n",
              "  </tbody>\n",
              "</table>\n",
              "</div>\n",
              "    <div class=\"colab-df-buttons\">\n",
              "\n",
              "  <div class=\"colab-df-container\">\n",
              "    <button class=\"colab-df-convert\" onclick=\"convertToInteractive('df-2878357f-1215-469a-9012-fcf6728220a1')\"\n",
              "            title=\"Convert this dataframe to an interactive table.\"\n",
              "            style=\"display:none;\">\n",
              "\n",
              "  <svg xmlns=\"http://www.w3.org/2000/svg\" height=\"24px\" viewBox=\"0 -960 960 960\">\n",
              "    <path d=\"M120-120v-720h720v720H120Zm60-500h600v-160H180v160Zm220 220h160v-160H400v160Zm0 220h160v-160H400v160ZM180-400h160v-160H180v160Zm440 0h160v-160H620v160ZM180-180h160v-160H180v160Zm440 0h160v-160H620v160Z\"/>\n",
              "  </svg>\n",
              "    </button>\n",
              "\n",
              "  <style>\n",
              "    .colab-df-container {\n",
              "      display:flex;\n",
              "      gap: 12px;\n",
              "    }\n",
              "\n",
              "    .colab-df-convert {\n",
              "      background-color: #E8F0FE;\n",
              "      border: none;\n",
              "      border-radius: 50%;\n",
              "      cursor: pointer;\n",
              "      display: none;\n",
              "      fill: #1967D2;\n",
              "      height: 32px;\n",
              "      padding: 0 0 0 0;\n",
              "      width: 32px;\n",
              "    }\n",
              "\n",
              "    .colab-df-convert:hover {\n",
              "      background-color: #E2EBFA;\n",
              "      box-shadow: 0px 1px 2px rgba(60, 64, 67, 0.3), 0px 1px 3px 1px rgba(60, 64, 67, 0.15);\n",
              "      fill: #174EA6;\n",
              "    }\n",
              "\n",
              "    .colab-df-buttons div {\n",
              "      margin-bottom: 4px;\n",
              "    }\n",
              "\n",
              "    [theme=dark] .colab-df-convert {\n",
              "      background-color: #3B4455;\n",
              "      fill: #D2E3FC;\n",
              "    }\n",
              "\n",
              "    [theme=dark] .colab-df-convert:hover {\n",
              "      background-color: #434B5C;\n",
              "      box-shadow: 0px 1px 3px 1px rgba(0, 0, 0, 0.15);\n",
              "      filter: drop-shadow(0px 1px 2px rgba(0, 0, 0, 0.3));\n",
              "      fill: #FFFFFF;\n",
              "    }\n",
              "  </style>\n",
              "\n",
              "    <script>\n",
              "      const buttonEl =\n",
              "        document.querySelector('#df-2878357f-1215-469a-9012-fcf6728220a1 button.colab-df-convert');\n",
              "      buttonEl.style.display =\n",
              "        google.colab.kernel.accessAllowed ? 'block' : 'none';\n",
              "\n",
              "      async function convertToInteractive(key) {\n",
              "        const element = document.querySelector('#df-2878357f-1215-469a-9012-fcf6728220a1');\n",
              "        const dataTable =\n",
              "          await google.colab.kernel.invokeFunction('convertToInteractive',\n",
              "                                                    [key], {});\n",
              "        if (!dataTable) return;\n",
              "\n",
              "        const docLinkHtml = 'Like what you see? Visit the ' +\n",
              "          '<a target=\"_blank\" href=https://colab.research.google.com/notebooks/data_table.ipynb>data table notebook</a>'\n",
              "          + ' to learn more about interactive tables.';\n",
              "        element.innerHTML = '';\n",
              "        dataTable['output_type'] = 'display_data';\n",
              "        await google.colab.output.renderOutput(dataTable, element);\n",
              "        const docLink = document.createElement('div');\n",
              "        docLink.innerHTML = docLinkHtml;\n",
              "        element.appendChild(docLink);\n",
              "      }\n",
              "    </script>\n",
              "  </div>\n",
              "\n",
              "\n",
              "<div id=\"df-2c30db8d-c9c0-42b9-a8bb-a7d175cc8d8f\">\n",
              "  <button class=\"colab-df-quickchart\" onclick=\"quickchart('df-2c30db8d-c9c0-42b9-a8bb-a7d175cc8d8f')\"\n",
              "            title=\"Suggest charts\"\n",
              "            style=\"display:none;\">\n",
              "\n",
              "<svg xmlns=\"http://www.w3.org/2000/svg\" height=\"24px\"viewBox=\"0 0 24 24\"\n",
              "     width=\"24px\">\n",
              "    <g>\n",
              "        <path d=\"M19 3H5c-1.1 0-2 .9-2 2v14c0 1.1.9 2 2 2h14c1.1 0 2-.9 2-2V5c0-1.1-.9-2-2-2zM9 17H7v-7h2v7zm4 0h-2V7h2v10zm4 0h-2v-4h2v4z\"/>\n",
              "    </g>\n",
              "</svg>\n",
              "  </button>\n",
              "\n",
              "<style>\n",
              "  .colab-df-quickchart {\n",
              "      --bg-color: #E8F0FE;\n",
              "      --fill-color: #1967D2;\n",
              "      --hover-bg-color: #E2EBFA;\n",
              "      --hover-fill-color: #174EA6;\n",
              "      --disabled-fill-color: #AAA;\n",
              "      --disabled-bg-color: #DDD;\n",
              "  }\n",
              "\n",
              "  [theme=dark] .colab-df-quickchart {\n",
              "      --bg-color: #3B4455;\n",
              "      --fill-color: #D2E3FC;\n",
              "      --hover-bg-color: #434B5C;\n",
              "      --hover-fill-color: #FFFFFF;\n",
              "      --disabled-bg-color: #3B4455;\n",
              "      --disabled-fill-color: #666;\n",
              "  }\n",
              "\n",
              "  .colab-df-quickchart {\n",
              "    background-color: var(--bg-color);\n",
              "    border: none;\n",
              "    border-radius: 50%;\n",
              "    cursor: pointer;\n",
              "    display: none;\n",
              "    fill: var(--fill-color);\n",
              "    height: 32px;\n",
              "    padding: 0;\n",
              "    width: 32px;\n",
              "  }\n",
              "\n",
              "  .colab-df-quickchart:hover {\n",
              "    background-color: var(--hover-bg-color);\n",
              "    box-shadow: 0 1px 2px rgba(60, 64, 67, 0.3), 0 1px 3px 1px rgba(60, 64, 67, 0.15);\n",
              "    fill: var(--button-hover-fill-color);\n",
              "  }\n",
              "\n",
              "  .colab-df-quickchart-complete:disabled,\n",
              "  .colab-df-quickchart-complete:disabled:hover {\n",
              "    background-color: var(--disabled-bg-color);\n",
              "    fill: var(--disabled-fill-color);\n",
              "    box-shadow: none;\n",
              "  }\n",
              "\n",
              "  .colab-df-spinner {\n",
              "    border: 2px solid var(--fill-color);\n",
              "    border-color: transparent;\n",
              "    border-bottom-color: var(--fill-color);\n",
              "    animation:\n",
              "      spin 1s steps(1) infinite;\n",
              "  }\n",
              "\n",
              "  @keyframes spin {\n",
              "    0% {\n",
              "      border-color: transparent;\n",
              "      border-bottom-color: var(--fill-color);\n",
              "      border-left-color: var(--fill-color);\n",
              "    }\n",
              "    20% {\n",
              "      border-color: transparent;\n",
              "      border-left-color: var(--fill-color);\n",
              "      border-top-color: var(--fill-color);\n",
              "    }\n",
              "    30% {\n",
              "      border-color: transparent;\n",
              "      border-left-color: var(--fill-color);\n",
              "      border-top-color: var(--fill-color);\n",
              "      border-right-color: var(--fill-color);\n",
              "    }\n",
              "    40% {\n",
              "      border-color: transparent;\n",
              "      border-right-color: var(--fill-color);\n",
              "      border-top-color: var(--fill-color);\n",
              "    }\n",
              "    60% {\n",
              "      border-color: transparent;\n",
              "      border-right-color: var(--fill-color);\n",
              "    }\n",
              "    80% {\n",
              "      border-color: transparent;\n",
              "      border-right-color: var(--fill-color);\n",
              "      border-bottom-color: var(--fill-color);\n",
              "    }\n",
              "    90% {\n",
              "      border-color: transparent;\n",
              "      border-bottom-color: var(--fill-color);\n",
              "    }\n",
              "  }\n",
              "</style>\n",
              "\n",
              "  <script>\n",
              "    async function quickchart(key) {\n",
              "      const quickchartButtonEl =\n",
              "        document.querySelector('#' + key + ' button');\n",
              "      quickchartButtonEl.disabled = true;  // To prevent multiple clicks.\n",
              "      quickchartButtonEl.classList.add('colab-df-spinner');\n",
              "      try {\n",
              "        const charts = await google.colab.kernel.invokeFunction(\n",
              "            'suggestCharts', [key], {});\n",
              "      } catch (error) {\n",
              "        console.error('Error during call to suggestCharts:', error);\n",
              "      }\n",
              "      quickchartButtonEl.classList.remove('colab-df-spinner');\n",
              "      quickchartButtonEl.classList.add('colab-df-quickchart-complete');\n",
              "    }\n",
              "    (() => {\n",
              "      let quickchartButtonEl =\n",
              "        document.querySelector('#df-2c30db8d-c9c0-42b9-a8bb-a7d175cc8d8f button');\n",
              "      quickchartButtonEl.style.display =\n",
              "        google.colab.kernel.accessAllowed ? 'block' : 'none';\n",
              "    })();\n",
              "  </script>\n",
              "</div>\n",
              "\n",
              "    </div>\n",
              "  </div>\n"
            ],
            "application/vnd.google.colaboratory.intrinsic+json": {
              "type": "dataframe",
              "variable_name": "df"
            }
          },
          "metadata": {},
          "execution_count": 4
        }
      ]
    },
    {
      "cell_type": "code",
      "source": [
        "missing_values = df.isnull().sum()\n",
        "print(\"Missing Values:\\n\", missing_values)"
      ],
      "metadata": {
        "colab": {
          "base_uri": "https://localhost:8080/"
        },
        "id": "N3OWpGsu1v7M",
        "outputId": "bd30347e-d41e-4a4b-e5ab-25e8dba682e7"
      },
      "execution_count": null,
      "outputs": [
        {
          "output_type": "stream",
          "name": "stdout",
          "text": [
            "Missing Values:\n",
            " year                0\n",
            "make            10301\n",
            "model           10399\n",
            "trim            10651\n",
            "body            13195\n",
            "transmission    65352\n",
            "vin                 4\n",
            "state               0\n",
            "condition       11820\n",
            "odometer           94\n",
            "color             749\n",
            "interior          749\n",
            "seller              0\n",
            "mmr                38\n",
            "sellingprice       12\n",
            "saledate           12\n",
            "dtype: int64\n"
          ]
        }
      ]
    },
    {
      "cell_type": "markdown",
      "source": [
        "**This dataset has missing values across multiple columns, but not all of them require the same treatment. Here’s how I preffered to prioritize and handle them effectively.**"
      ],
      "metadata": {
        "id": "uuK37bRL3hVa"
      }
    },
    {
      "cell_type": "markdown",
      "source": [
        "1. VIN (Vehicle Identification Number):\n",
        "Issue: The vin is a unique identifier for each vehicle.\n",
        "Fix : vin is crucial for tracking unique cars, drop these rows."
      ],
      "metadata": {
        "id": "9hEB-Y-a4OAW"
      }
    },
    {
      "cell_type": "code",
      "source": [
        "df.dropna(subset=[\"vin\"], inplace=True)\n"
      ],
      "metadata": {
        "id": "BWU5WP9T4MQx"
      },
      "execution_count": null,
      "outputs": []
    },
    {
      "cell_type": "markdown",
      "source": [
        "2. Sale Date :\n",
        "Issue: saledate is essential for time-based analysis.\n",
        "Fix: The saledate column was converted to a standardized datetime64[ns] format using pd.to_datetime() to enable efficient time-series analysis and proper date hierarchies in Power BI. The errors='coerce' parameter ensures robustness by converting any invalid date strings to NaT for easier handling during preprocessing."
      ],
      "metadata": {
        "id": "O4z2TUVj4lGg"
      }
    },
    {
      "cell_type": "code",
      "source": [
        "# Convert 'saledate' to datetime format\n",
        "df['saledate'] = pd.to_datetime(df['saledate'], errors='coerce')\n",
        "\n",
        "# Check the conversion\n",
        "print(df['saledate'].head())\n",
        "\n",
        "# Optionally, save the cleaned dataset\n",
        "df.to_csv('cleaned_dataset.csv', index=False)\n",
        "\n",
        "print(\"Saledate has been converted to Date format and saved.\")\n"
      ],
      "metadata": {
        "id": "FgsANNHC5CX_",
        "colab": {
          "base_uri": "https://localhost:8080/"
        },
        "outputId": "2acdde3b-4967-46f3-ab19-f955a8191d7c"
      },
      "execution_count": null,
      "outputs": [
        {
          "output_type": "stream",
          "name": "stderr",
          "text": [
            "<ipython-input-7-685b90d1ad7a>:2: UserWarning: Could not infer format, so each element will be parsed individually, falling back to `dateutil`. To ensure parsing is consistent and as-expected, please specify a format.\n",
            "  df['saledate'] = pd.to_datetime(df['saledate'], errors='coerce')\n",
            "<ipython-input-7-685b90d1ad7a>:2: FutureWarning: In a future version of pandas, parsing datetimes with mixed time zones will raise an error unless `utc=True`. Please specify `utc=True` to opt in to the new behaviour and silence this warning. To create a `Series` with mixed offsets and `object` dtype, please use `apply` and `datetime.datetime.strptime`\n",
            "  df['saledate'] = pd.to_datetime(df['saledate'], errors='coerce')\n"
          ]
        },
        {
          "output_type": "stream",
          "name": "stdout",
          "text": [
            "0    2014-12-16 12:30:00+08:00\n",
            "1    2014-12-16 12:30:00+08:00\n",
            "2    2015-01-15 04:30:00+08:00\n",
            "3    2015-01-29 04:30:00+08:00\n",
            "4    2014-12-18 12:30:00+08:00\n",
            "Name: saledate, dtype: object\n",
            "Saledate has been converted to Date format and saved.\n"
          ]
        }
      ]
    },
    {
      "cell_type": "markdown",
      "source": [
        "4. The condition column contained improperly formatted float values (e.g., 45.0 instead of 4.5) due to missing decimal points. We applied a transformation to detect and convert anomalous two-digit values greater than 5 into valid float scores by inserting a decimal between the digits, ensuring accurate numeric representation for downstream analysis."
      ],
      "metadata": {
        "id": "E2M1jyad5cp-"
      }
    },
    {
      "cell_type": "code",
      "source": [
        "def fix_condition(val):\n",
        "    try:\n",
        "        val = float(val)\n",
        "\n",
        "        # If value is greater than 5, assume it's like 45 → 4.5\n",
        "        if val > 5 and val < 100:\n",
        "            digits = str(int(val))\n",
        "            if len(digits) == 2:\n",
        "                return float(digits[0] + '.' + digits[1])\n",
        "\n",
        "        # If it's already in the valid range, keep it\n",
        "        if 0 <= val <= 5:\n",
        "            return val\n",
        "\n",
        "    except:\n",
        "        return None\n",
        "\n",
        "    return None\n"
      ],
      "metadata": {
        "id": "40okAl-n6Kpu"
      },
      "execution_count": null,
      "outputs": []
    },
    {
      "cell_type": "code",
      "source": [
        "df['condition_clean'] = df['condition'].apply(fix_condition)\n",
        "print(df[['condition', 'condition_clean']].head(8))\n"
      ],
      "metadata": {
        "colab": {
          "base_uri": "https://localhost:8080/"
        },
        "id": "3_JGZJhn7XIy",
        "outputId": "881ca7ad-22bd-4d20-ac44-7860b8e9ddf7"
      },
      "execution_count": null,
      "outputs": [
        {
          "output_type": "stream",
          "name": "stdout",
          "text": [
            "   condition  condition_clean\n",
            "0        5.0              5.0\n",
            "1        5.0              5.0\n",
            "2       45.0              4.5\n",
            "3       41.0              4.1\n",
            "4       43.0              4.3\n",
            "5        1.0              1.0\n",
            "6       34.0              3.4\n",
            "7        2.0              2.0\n"
          ]
        }
      ]
    },
    {
      "cell_type": "markdown",
      "source": [
        "5. Odometer : Issue : Values are in raw Miles format. Fix : The odometer column was converted from miles to kilometers using the standard factor (1 mile = 1.60934 km) to ensure consistency with the UK’s metric system. This transformation supports accurate distance-based analysis and aligns the dataset with international reporting standards."
      ],
      "metadata": {
        "id": "_qB9cTBJAn-f"
      }
    },
    {
      "cell_type": "code",
      "source": [
        "# Convert 'odometer' from miles to kilometers\n",
        "df['odometer_km'] = df['odometer'] * 1.60934\n",
        "\n",
        "# View the first 5 rows to confirm the conversion\n",
        "print(df[['odometer', 'odometer_km']].head())\n",
        "\n",
        "# Save the updated dataset\n",
        "df.to_csv('cleaned_dataset.csv', index=False)\n",
        "\n",
        "print(\"Odometer converted from miles to kilometers and saved.\")"
      ],
      "metadata": {
        "colab": {
          "base_uri": "https://localhost:8080/"
        },
        "id": "aAxcyKvM85Az",
        "outputId": "6f2d39d5-77be-4829-a8f9-46bb677d0586"
      },
      "execution_count": null,
      "outputs": [
        {
          "output_type": "stream",
          "name": "stdout",
          "text": [
            "   odometer  odometer_km\n",
            "0   16639.0  26777.80826\n",
            "1    9393.0  15116.53062\n",
            "2    1331.0   2142.03154\n",
            "3   14282.0  22984.59388\n",
            "4    2641.0   4250.26694\n",
            "Odometer converted from miles to kilometers and saved.\n"
          ]
        }
      ]
    },
    {
      "cell_type": "markdown",
      "source": [
        "Lets download this csv for file for further PowerBi Dashboard\n"
      ],
      "metadata": {
        "id": "XX-GzNM84W8P"
      }
    },
    {
      "cell_type": "code",
      "source": [
        "df.to_csv(\"cleaned_car_data.csv\", index=False)\n"
      ],
      "metadata": {
        "id": "sRolrB2EBD3d"
      },
      "execution_count": null,
      "outputs": []
    },
    {
      "cell_type": "code",
      "source": [
        "from google.colab import files\n",
        "files.download(\"cleaned_car_data.csv\")\n"
      ],
      "metadata": {
        "id": "G-ilHRaENOEm",
        "outputId": "035850e5-1aa0-4f19-9582-115424637ee5",
        "colab": {
          "base_uri": "https://localhost:8080/",
          "height": 17
        }
      },
      "execution_count": null,
      "outputs": [
        {
          "output_type": "display_data",
          "data": {
            "text/plain": [
              "<IPython.core.display.Javascript object>"
            ],
            "application/javascript": [
              "\n",
              "    async function download(id, filename, size) {\n",
              "      if (!google.colab.kernel.accessAllowed) {\n",
              "        return;\n",
              "      }\n",
              "      const div = document.createElement('div');\n",
              "      const label = document.createElement('label');\n",
              "      label.textContent = `Downloading \"${filename}\": `;\n",
              "      div.appendChild(label);\n",
              "      const progress = document.createElement('progress');\n",
              "      progress.max = size;\n",
              "      div.appendChild(progress);\n",
              "      document.body.appendChild(div);\n",
              "\n",
              "      const buffers = [];\n",
              "      let downloaded = 0;\n",
              "\n",
              "      const channel = await google.colab.kernel.comms.open(id);\n",
              "      // Send a message to notify the kernel that we're ready.\n",
              "      channel.send({})\n",
              "\n",
              "      for await (const message of channel.messages) {\n",
              "        // Send a message to notify the kernel that we're ready.\n",
              "        channel.send({})\n",
              "        if (message.buffers) {\n",
              "          for (const buffer of message.buffers) {\n",
              "            buffers.push(buffer);\n",
              "            downloaded += buffer.byteLength;\n",
              "            progress.value = downloaded;\n",
              "          }\n",
              "        }\n",
              "      }\n",
              "      const blob = new Blob(buffers, {type: 'application/binary'});\n",
              "      const a = document.createElement('a');\n",
              "      a.href = window.URL.createObjectURL(blob);\n",
              "      a.download = filename;\n",
              "      div.appendChild(a);\n",
              "      a.click();\n",
              "      div.remove();\n",
              "    }\n",
              "  "
            ]
          },
          "metadata": {}
        },
        {
          "output_type": "display_data",
          "data": {
            "text/plain": [
              "<IPython.core.display.Javascript object>"
            ],
            "application/javascript": [
              "download(\"download_50cdd280-f4f9-446e-8736-5f308a0c851a\", \"cleaned_car_data.csv\", 93222178)"
            ]
          },
          "metadata": {}
        }
      ]
    }
  ]
}